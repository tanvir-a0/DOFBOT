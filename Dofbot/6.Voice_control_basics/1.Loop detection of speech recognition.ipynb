{
 "cells": [
  {
   "cell_type": "markdown",
   "metadata": {},
   "source": [
    "# 定义模块的设备地址和寄存器地址"
   ]
  },
  {
   "cell_type": "code",
   "execution_count": null,
   "metadata": {},
   "outputs": [],
   "source": [
    "#!/usr/bin/env python3\n",
    "#coding=utf-8\n",
    "import smbus\n",
    "import time\n",
    "bus = smbus.SMBus(1)\n",
    "\n",
    "i2c_addr = 0x0f   #Speech recognition module address\n",
    "asr_add_word_addr  = 0x01   #Entry add address\n",
    "asr_mode_addr  = 0x02   #Recognition mode setting address, the value is 0-2, 0: cyclic recognition mode 1: password mode, 2: button mode, the default is cyclic detection\n",
    "asr_rgb_addr = 0x03   #RGB lamp setting address, need to send two bits, the first one is directly the lamp number 1: blue 2: red 3: green\n",
    "                      #The second byte is brightness 0-255, the larger the value, the higher the brightness\n",
    "asr_rec_gain_addr  = 0x04    #Identification sensitivity setting address, sensitivity can be set to 0x00-0x7f, the higher the value, the easier it is to detect but the easier it is to misjudge\n",
    "                             #It is recommended to set the value to 0x40-0x55, the default value is 0x40\n",
    "asr_clear_addr = 0x05   #Clear the operation address of the power-off cache, clear the cache area information before entering the information\n",
    "asr_key_flag = 0x06  #Used in key mode, set the startup recognition mode\n",
    "asr_voice_flag = 0x07   #Used to set whether to turn on the recognition result prompt sound\n",
    "asr_result = 0x08  #Recognition result storage address\n",
    "asr_buzzer = 0x09  #Buzzer control register, 1 bit is on, 0 bit is off\n",
    "asr_num_cleck = 0x0a #Check the number of entries\n",
    "asr_vession = 0x0b #firmware version number\n",
    "asr_busy = 0x0c #Busy and busy flag"
   ]
  },
  {
   "cell_type": "markdown",
   "metadata": {},
   "source": [
    "# 定义语音控制函数"
   ]
  },
  {
   "cell_type": "code",
   "execution_count": null,
   "metadata": {},
   "outputs": [],
   "source": [
    "#Write entry\n",
    "def AsrAddWords(idnum,str):\n",
    "    global i2c_addr\n",
    "    global asr_add_word_addr\n",
    "    words = []\n",
    "    words.append(asr_add_word_addr)\n",
    "    words.append(len(str) + 2)\n",
    "    words.append(idnum)\n",
    "    for  alond_word in str:\n",
    "        words.append(ord(alond_word))\n",
    "    words.append(0)\n",
    "    print(words)\n",
    "    for date in words:\n",
    "        bus.write_byte (i2c_addr, date)\n",
    "        time.sleep(0.03)\n",
    "\n",
    "#Set RGB\n",
    "def RGBSet(R,G,B):\n",
    "    global i2c_addr\n",
    "    global asr_rgb_addr\n",
    "    date = []\n",
    "    date.append(R)\n",
    "    date.append(G)\n",
    "    date.append(B)\n",
    "    print(date)\n",
    "    bus.write_i2c_block_data (i2c_addr,asr_rgb_addr,date)\n",
    "\n",
    "#Read result\n",
    "def I2CReadByte(reg):\n",
    "    global i2c_addr\n",
    "    bus.write_byte (i2c_addr, reg)\n",
    "    time.sleep(0.05)\n",
    "    Read_result = bus.read_byte (i2c_addr)\n",
    "    return Read_result\n",
    "\n",
    "#Wait busy\n",
    "def Busy_Wait():\n",
    "    busy = 255\n",
    "    while busy != 0:\n",
    "        busy = I2CReadByte(asr_busy)\n",
    "        print(asr_busy)\t"
   ]
  },
  {
   "cell_type": "markdown",
   "metadata": {},
   "source": [
    "# 清除掉电缓存区中的词条和模块模式数据，这部分第一次使用写入即可，后续如果不需要在更改设置可以把1 设置为0，或者跳过，之后设置模块的灵敏度和识别提示声的开关，之后亮起模块的RGB 灯为白色1s 和鸣笛1s。"
   ]
  },
  {
   "cell_type": "code",
   "execution_count": null,
   "metadata": {},
   "outputs": [],
   "source": [
    "'''\n",
    "The mode and phrase have the function of power-down save, if there is no modification after the first entry, you can change 1 to 0\n",
    "'''\n",
    "cleck = 1\n",
    "\n",
    "if 1:\n",
    "    bus.write_byte_data(i2c_addr, asr_clear_addr, 0x40)#Clear the power-down buffer area\n",
    "    Busy_Wait()#Wait for the module to be free\n",
    "    print(\"Cache cleared\")\n",
    "    bus.write_byte_data(i2c_addr, asr_mode_addr, 0x00)#Set to loop mode\n",
    "    Busy_Wait()\n",
    "    print(\"The mode is set\")\n",
    "    AsrAddWords(1,\"hong deng\")\n",
    "    Busy_Wait()\n",
    "    AsrAddWords(2,\"lv deng\")\n",
    "    Busy_Wait()\n",
    "    AsrAddWords(3,\"lan deng\")\n",
    "    Busy_Wait()\n",
    "    AsrAddWords(4,\"guan deng\")\n",
    "    Busy_Wait()\n",
    "    while cleck != 4:\n",
    "        cleck = I2CReadByte(asr_num_cleck)\n",
    "        print(cleck)\n",
    "\n",
    "bus.write_byte_data(i2c_addr, asr_rec_gain_addr, 0x40)#Set the sensitivity, the recommended value is 0x40-0x55\n",
    "bus.write_byte_data(i2c_addr, asr_voice_flag, 1)#Set switch sound\n",
    "bus.write_byte_data(i2c_addr, asr_buzzer, 1)#buzzer\n",
    "RGBSet(255,255,255)\n",
    "time.sleep(1)\n",
    "RGBSet(0,0,0)\n",
    "bus.write_byte_data(i2c_addr, asr_buzzer, 0)#buzzer"
   ]
  },
  {
   "cell_type": "markdown",
   "metadata": {},
   "source": [
    "# 循环检测声音"
   ]
  },
  {
   "cell_type": "code",
   "execution_count": null,
   "metadata": {},
   "outputs": [],
   "source": [
    "while True:\n",
    "    result = I2CReadByte(asr_result)\n",
    "    print(result)\n",
    "    time.sleep(0.5)"
   ]
  },
  {
   "cell_type": "code",
   "execution_count": null,
   "metadata": {},
   "outputs": [],
   "source": []
  }
 ],
 "metadata": {
  "kernelspec": {
   "display_name": "Python 3",
   "language": "python",
   "name": "python3"
  },
  "language_info": {
   "codemirror_mode": {
    "name": "ipython",
    "version": 3
   },
   "file_extension": ".py",
   "mimetype": "text/x-python",
   "name": "python",
   "nbconvert_exporter": "python",
   "pygments_lexer": "ipython3",
   "version": "3.6.9"
  }
 },
 "nbformat": 4,
 "nbformat_minor": 4
}
