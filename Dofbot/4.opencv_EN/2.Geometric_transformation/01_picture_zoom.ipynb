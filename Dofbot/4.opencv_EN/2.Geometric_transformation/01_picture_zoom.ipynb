{
 "cells": [
  {
   "cell_type": "markdown",
   "metadata": {},
   "source": [
    "<center><img src=\"../../logo.png\" alt=\"Header\" style=\"width: 800px;\"/></center>"
   ]
  },
  {
   "cell_type": "markdown",
   "metadata": {},
   "source": [
    "@Copyright (C): 2010-2022, Shenzhen Yahboom Tech  \n",
    "@Author: Liusen  \n",
    "@Date: 2020-02-18 11:35:02  \n",
    "@LastEditors: Liusen  \n",
    "@LastEditTime: 2020-02-18 11:35:02  "
   ]
  },
  {
   "cell_type": "code",
   "execution_count": null,
   "metadata": {},
   "outputs": [],
   "source": [
    "\n",
    "import cv2\n",
    "import matplotlib.pyplot as plt  # 2D drawing library for Python\n",
    " \n",
    "# Read the original picture\n",
    "img = cv2.imread('yahboom.jpg')\n",
    "# Print out the picture size \n",
    "print(img.shape)\n",
    "# Assign the image height and width to x and y respectively\n",
    "x, y = img.shape[0:2]\n",
    " \n",
    "# Display original picture\n",
    "#cv.imshow('OriginalPicture', img)\n",
    " \n",
    "# Zoom to the original half, the output size format is (width, height)\n",
    "img_test1 = cv2.resize(img, (int(y / 2), int(x / 2)))\n",
    "# cv2.imshow('resize0', img_test1)\n",
    "# cv2.waitKey()\n",
    " \n",
    "# Nearest neighbor interpolation to zoom\n",
    "# Zoom to the original quarter\n",
    "img_test2 = cv2.resize(img, (0, 0), fx=0.25, fy=0.25, interpolation=cv2.INTER_NEAREST)\n",
    "# cv.imshow('resize1', img_test2)\n",
    "# cv.waitKey()\n",
    "# cv.destroyAllWindows()\n",
    "img = cv2.cvtColor(img, cv2.COLOR_BGR2RGB)\n",
    "dst1 = cv2.cvtColor(img_test1, cv2.COLOR_BGR2RGB)\n",
    "dst2 = cv2.cvtColor(img_test2, cv2.COLOR_BGR2RGB)\n",
    "\n",
    "# Display original picture\n",
    "plt.imshow(img)\n",
    "plt.show()\n"
   ]
  },
  {
   "cell_type": "code",
   "execution_count": null,
   "metadata": {},
   "outputs": [],
   "source": [
    "# Display zoom 1/2\n",
    "plt.imshow(dst1)\n",
    "plt.show()"
   ]
  },
  {
   "cell_type": "code",
   "execution_count": null,
   "metadata": {},
   "outputs": [],
   "source": [
    "# Display zoom 1/4 Nearest neighbor interpolation to zoom\n",
    "plt.imshow(dst2)\n",
    "plt.show()"
   ]
  },
  {
   "cell_type": "markdown",
   "metadata": {},
   "source": [
    "# Next, we will introduce matplotlib: 2D plotting library for Python\n",
    "# Tutorial:https://www.runoob.com/numpy/numpy-matplotlib.html "
   ]
  },
  {
   "cell_type": "code",
   "execution_count": null,
   "metadata": {},
   "outputs": [],
   "source": [
    "import numpy as np \n",
    "from matplotlib import pyplot as plt \n",
    "\n",
    "x = np.arange(1,11) \n",
    "y =  2 * x +  5 \n",
    "plt.title(\"Matplotlib demo\") \n",
    "plt.xlabel(\"x axis caption\") \n",
    "plt.ylabel(\"y axis caption\") \n",
    "plt.plot(x,y) \n",
    "plt.show()\n"
   ]
  },
  {
   "cell_type": "code",
   "execution_count": null,
   "metadata": {},
   "outputs": [],
   "source": []
  }
 ],
 "metadata": {
  "kernelspec": {
   "display_name": "Python 3",
   "language": "python",
   "name": "python3"
  },
  "language_info": {
   "codemirror_mode": {
    "name": "ipython",
    "version": 3
   },
   "file_extension": ".py",
   "mimetype": "text/x-python",
   "name": "python",
   "nbconvert_exporter": "python",
   "pygments_lexer": "ipython3",
   "version": "3.6.9"
  }
 },
 "nbformat": 4,
 "nbformat_minor": 4
}
