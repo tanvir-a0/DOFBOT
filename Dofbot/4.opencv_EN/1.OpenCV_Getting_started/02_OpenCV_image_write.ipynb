{
 "cells": [
  {
   "cell_type": "markdown",
   "metadata": {},
   "source": [
    "<center><img src=\"../../logo.png\" alt=\"Header\" style=\"width: 800px;\"/></center>\n"
   ]
  },
  {
   "cell_type": "markdown",
   "metadata": {},
   "source": [
    "@Copyright (C): 2010-2022, Shenzhen Yahboom Tech  \n",
    "@Author: Liusen  \n",
    "@Date: 2020-02-18 10:01:02  \n",
    "@LastEditors: Liusen  \n",
    "@LastEditTime: 2020-02-18 10:01:02  "
   ]
  },
  {
   "cell_type": "code",
   "execution_count": null,
   "metadata": {},
   "outputs": [],
   "source": [
    "import cv2\n",
    "\n",
    "# 1 File reading 2 Package format analysis 3 Data decoding 4 Data loading\n",
    "img = cv2.imread('yahboom.jpg', 1)\n",
    "# cv2.imshow('image', img)  #This code needs to be executed on the command line of the Raspberry Pi graphical interface, and an image will be displayed\n",
    "cv2.imwrite('yahboom1.jpg', img) # 1 name 2 data "
   ]
  },
  {
   "cell_type": "markdown",
   "metadata": {},
   "source": [
    "# After running the following program, the image read after writing will be displayed in the jupyter Lab controls"
   ]
  },
  {
   "cell_type": "code",
   "execution_count": null,
   "metadata": {},
   "outputs": [],
   "source": [
    "#bgr8 to jpeg format\n",
    "import enum\n",
    "import cv2\n",
    "\n",
    "def bgr8_to_jpeg(value, quality=75):\n",
    "    return bytes(cv2.imencode('.jpg', value)[1])"
   ]
  },
  {
   "cell_type": "code",
   "execution_count": null,
   "metadata": {},
   "outputs": [],
   "source": [
    "import ipywidgets.widgets as widgets\n",
    "\n",
    "image_widget = widgets.Image(format='jpg', width=320, height=240)\n",
    "display(image_widget)\n",
    "img = cv2.imread('yahboom1.jpg',1)\n",
    "image_widget.value = bgr8_to_jpeg(img)"
   ]
  },
  {
   "cell_type": "code",
   "execution_count": null,
   "metadata": {},
   "outputs": [],
   "source": []
  }
 ],
 "metadata": {
  "kernelspec": {
   "display_name": "Python 3",
   "language": "python",
   "name": "python3"
  },
  "language_info": {
   "codemirror_mode": {
    "name": "ipython",
    "version": 3
   },
   "file_extension": ".py",
   "mimetype": "text/x-python",
   "name": "python",
   "nbconvert_exporter": "python",
   "pygments_lexer": "ipython3",
   "version": "3.6.9"
  }
 },
 "nbformat": 4,
 "nbformat_minor": 4
}
