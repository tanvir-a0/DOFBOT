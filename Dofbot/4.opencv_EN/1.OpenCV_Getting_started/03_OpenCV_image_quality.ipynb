{
 "cells": [
  {
   "cell_type": "markdown",
   "metadata": {},
   "source": [
    "<center><img src=\"../../logo.png\" alt=\"Header\" style=\"width: 800px;\"/></center>"
   ]
  },
  {
   "cell_type": "markdown",
   "metadata": {},
   "source": [
    "@Copyright (C): 2010-2022, Shenzhen Yahboom Tech  \n",
    "@Author: Liusen  \n",
    "@Date: 2020-02-18 10:03:02  \n",
    "@LastEditors: Liusen  \n",
    "@LastEditTime: 2020-02-18 10:03:02  "
   ]
  },
  {
   "cell_type": "code",
   "execution_count": null,
   "metadata": {},
   "outputs": [],
   "source": [
    "import cv2\n",
    "img = cv2.imread('yahboom.jpg',1)\n",
    "cv2.imwrite('yahboomTest.jpg', img, [cv2.IMWRITE_JPEG_QUALITY, 50])\n",
    "#1M 100k 10k 0-100 Lossy compression\n"
   ]
  },
  {
   "cell_type": "code",
   "execution_count": null,
   "metadata": {},
   "outputs": [],
   "source": [
    "# 1 Lossy compression, 2 Transparency attribute\n",
    "import cv2\n",
    "img = cv2.imread('yahboom.jpg',1)\n",
    "cv2.imwrite('yahboomTest.png', img, [cv2.IMWRITE_PNG_COMPRESSION,0])\n",
    "# jpg 0 High compression ratio 0-100  png 0 Low compression ratio 0-9"
   ]
  },
  {
   "cell_type": "markdown",
   "metadata": {},
   "source": [
    "# After running the following program, two compressed images will be displayed in the jupyter Lab controls"
   ]
  },
  {
   "cell_type": "code",
   "execution_count": null,
   "metadata": {},
   "outputs": [],
   "source": [
    "#bgr8 to jpeg format\n",
    "import enum\n",
    "import cv2\n",
    "\n",
    "def bgr8_to_jpeg(value, quality=75):\n",
    "    return bytes(cv2.imencode('.jpg', value)[1])"
   ]
  },
  {
   "cell_type": "code",
   "execution_count": null,
   "metadata": {},
   "outputs": [],
   "source": [
    "import ipywidgets.widgets as widgets\n",
    "\n",
    "image_widget1 = widgets.Image(format='jpg', )\n",
    "image_widget2 = widgets.Image(format='jpg', )\n",
    "# create a horizontal box container to place the image widget next to eachother\n",
    "image_container = widgets.HBox([image_widget1, image_widget2])\n",
    "\n",
    "# display the container in this cell's output\n",
    "display(image_container)\n",
    "\n",
    "img1 = cv2.imread('yahboomTest.jpg',1)\n",
    "img2 = cv2.imread('yahboomTest.png',1)\n",
    "image_widget1.value = bgr8_to_jpeg(img1)\n",
    "image_widget2.value = bgr8_to_jpeg(img2)"
   ]
  },
  {
   "cell_type": "code",
   "execution_count": null,
   "metadata": {},
   "outputs": [],
   "source": []
  }
 ],
 "metadata": {
  "kernelspec": {
   "display_name": "Python 3",
   "language": "python",
   "name": "python3"
  },
  "language_info": {
   "codemirror_mode": {
    "name": "ipython",
    "version": 3
   },
   "file_extension": ".py",
   "mimetype": "text/x-python",
   "name": "python",
   "nbconvert_exporter": "python",
   "pygments_lexer": "ipython3",
   "version": "3.6.9"
  }
 },
 "nbformat": 4,
 "nbformat_minor": 4
}
