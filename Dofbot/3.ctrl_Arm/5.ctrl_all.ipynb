{
 "cells": [
  {
   "cell_type": "code",
   "execution_count": null,
   "metadata": {},
   "outputs": [],
   "source": [
    "#!/usr/bin/env python3\n",
    "#coding=utf-8\n",
    "import time\n",
    "from Arm_Lib import Arm_Device\n",
    "\n",
    "Arm = Arm_Device()\n",
    "time.sleep(.1)\n"
   ]
  },
  {
   "cell_type": "code",
   "execution_count": null,
   "metadata": {},
   "outputs": [],
   "source": [
    "# Control the motion of six steering gears at the same time and gradually change the angle\n",
    "# 同时控制六个舵机运动，逐渐变换角度。\n",
    "def ctrl_all_servo(angle, s_time = 500):\n",
    "    Arm.Arm_serial_servo_write6(angle, 180-angle, angle, angle, angle, angle, s_time)\n",
    "    time.sleep(s_time/1000)\n",
    "\n",
    "\n",
    "def main():\n",
    "    dir_state = 1\n",
    "    angle = 90\n",
    "    \n",
    "    # Reset and center the steering gear\n",
    "    # 让舵机复位归中\n",
    "    Arm.Arm_serial_servo_write6(90, 90, 90, 90, 90, 90, 500)\n",
    "    time.sleep(1)\n",
    "\n",
    "    \n",
    "    while True:\n",
    "        if dir_state == 1:\n",
    "            angle += 1\n",
    "            if angle >= 180:\n",
    "                dir_state = 0\n",
    "        else:\n",
    "            angle -= 1\n",
    "            if angle <= 0:\n",
    "                dir_state = 1\n",
    "        \n",
    "        ctrl_all_servo(angle, 10)\n",
    "        time.sleep(10/1000)\n",
    "#         print(angle)\n",
    "\n",
    "    \n",
    "try :\n",
    "    main()\n",
    "except KeyboardInterrupt:\n",
    "    print(\" Program closed! \")\n",
    "    pass\n"
   ]
  },
  {
   "cell_type": "code",
   "execution_count": null,
   "metadata": {},
   "outputs": [],
   "source": [
    "del Arm  "
   ]
  },
  {
   "cell_type": "code",
   "execution_count": null,
   "metadata": {},
   "outputs": [],
   "source": []
  }
 ],
 "metadata": {
  "kernelspec": {
   "display_name": "Python 3",
   "language": "python",
   "name": "python3"
  },
  "language_info": {
   "codemirror_mode": {
    "name": "ipython",
    "version": 3
   },
   "file_extension": ".py",
   "mimetype": "text/x-python",
   "name": "python",
   "nbconvert_exporter": "python",
   "pygments_lexer": "ipython3",
   "version": "3.6.9"
  }
 },
 "nbformat": 4,
 "nbformat_minor": 4
}
