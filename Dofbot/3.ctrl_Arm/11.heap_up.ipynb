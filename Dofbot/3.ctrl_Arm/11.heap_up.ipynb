{
 "cells": [
  {
   "cell_type": "code",
   "execution_count": 1,
   "metadata": {},
   "outputs": [],
   "source": [
    "#!/usr/bin/env python3\n",
    "#coding=utf-8\n",
    "import time\n",
    "from Arm_Lib import Arm_Device\n",
    "\n",
    "Arm = Arm_Device()\n",
    "time.sleep(.1)"
   ]
  },
  {
   "cell_type": "code",
   "execution_count": 2,
   "metadata": {},
   "outputs": [],
   "source": [
    "def arm_clamp_block(enable):\n",
    "    if enable == 0:\n",
    "        Arm.Arm_serial_servo_write(6, 60, 400)\n",
    "    else:\n",
    "        Arm.Arm_serial_servo_write(6, 135, 400)\n",
    "    time.sleep(.5)\n",
    "\n",
    "    \n",
    "def arm_move(p, s_time = 500):\n",
    "    for i in range(5):\n",
    "        id = i + 1\n",
    "        if id == 5:\n",
    "            time.sleep(.1)\n",
    "            Arm.Arm_serial_servo_write(id, p[i], int(s_time*1.2))\n",
    "        elif id == 1 :\n",
    "            Arm.Arm_serial_servo_write(id, p[i], int(3*s_time/4))\n",
    "\n",
    "        else:\n",
    "            Arm.Arm_serial_servo_write(id, p[i], int(s_time))\n",
    "        time.sleep(.01)\n",
    "    time.sleep(s_time/1000)\n"
   ]
  },
  {
   "cell_type": "code",
   "execution_count": 3,
   "metadata": {},
   "outputs": [],
   "source": [
    "p_mould = [90, 130, 0, 0, 90]\n",
    "p_top = [90, 80, 50, 50, 270]\n",
    "\n",
    "\n",
    "p_layer_4 = [90, 76, 40, 17, 270]\n",
    "p_layer_3 = [90, 65, 44, 17, 270]\n",
    "p_layer_2 = [90, 65, 25, 36, 270]\n",
    "p_layer_1 = [90, 48, 35, 30, 270]\n",
    "\n",
    "p_Yellow = [65, 22, 64, 56, 270]\n",
    "p_Red = [118, 19, 66, 56, 270]\n",
    "\n",
    "p_Green = [136, 66, 20, 29, 270]\n",
    "p_Blue = [44, 66, 20, 28, 270]\n"
   ]
  },
  {
   "cell_type": "code",
   "execution_count": 4,
   "metadata": {},
   "outputs": [],
   "source": [
    "# Move the manipulator to a position ready for grasping\n",
    "# 让机械臂移动到一个准备抓取的位置\n",
    "arm_clamp_block(0)\n",
    "arm_move(p_mould, 1000)\n",
    "time.sleep(1)\n"
   ]
  },
  {
   "cell_type": "code",
   "execution_count": 5,
   "metadata": {},
   "outputs": [],
   "source": [
    "# Take the squares in the yellow area and stack them to the bottom position in the middle.\n",
    "# 夹取黄色区域的方块堆叠到中间最底层的位置。\n",
    "arm_move(p_top, 1000)\n",
    "arm_move(p_Yellow, 1000)\n",
    "arm_clamp_block(1)\n",
    "\n",
    "arm_move(p_top, 1000)\n",
    "arm_move(p_layer_1, 1000)\n",
    "arm_clamp_block(0)\n",
    "\n",
    "time.sleep(.1)\n",
    "\n",
    "arm_move(p_mould, 1100)\n",
    "    \n",
    "# time.sleep(1)\n"
   ]
  },
  {
   "cell_type": "code",
   "execution_count": 6,
   "metadata": {},
   "outputs": [],
   "source": [
    "# Clip the blocks in the red area and stack them to the middle second layer.\n",
    "# 夹取红色区域的方块堆叠到中间第二层的位置。\n",
    "arm_move(p_top, 1000)\n",
    "arm_move(p_Red, 1000)\n",
    "arm_clamp_block(1)\n",
    "\n",
    "arm_move(p_top, 1000)\n",
    "arm_move(p_layer_2, 1000)\n",
    "arm_clamp_block(0)\n",
    "\n",
    "time.sleep(.1)\n",
    "\n",
    "arm_move(p_mould, 1100)\n",
    "\n",
    "# time.sleep(1)\n"
   ]
  },
  {
   "cell_type": "code",
   "execution_count": 7,
   "metadata": {},
   "outputs": [],
   "source": [
    "# Take the blocks in the green area and stack them to the third layer in the middle.\n",
    "# 夹取绿色区域的方块堆叠到中间第三层的位置。\n",
    "arm_move(p_top, 1000)\n",
    "arm_move(p_Green, 1000)\n",
    "arm_clamp_block(1)\n",
    "\n",
    "arm_move(p_top, 1000)\n",
    "arm_move(p_layer_3, 1000)\n",
    "arm_clamp_block(0)\n",
    "\n",
    "time.sleep(.1)\n",
    "\n",
    "arm_move(p_mould, 1100)\n",
    "    \n",
    "# time.sleep(1)\n"
   ]
  },
  {
   "cell_type": "code",
   "execution_count": 8,
   "metadata": {},
   "outputs": [],
   "source": [
    "# Clip the blocks in the blue area and stack them to the position of the fourth layer in the middle.\n",
    "# 夹取蓝色区域的方块堆叠到中间第四层的位置。\n",
    "arm_move(p_top, 1000)\n",
    "arm_move(p_Blue, 1000)\n",
    "\n",
    "arm_clamp_block(1)\n",
    "\n",
    "arm_move(p_top, 1000)\n",
    "arm_move(p_layer_4, 1000)\n",
    "arm_clamp_block(0)\n",
    "\n",
    "time.sleep(.1)\n",
    "\n",
    "arm_move(p_mould, 1100)\n",
    "    \n",
    "# time.sleep(1)"
   ]
  },
  {
   "cell_type": "code",
   "execution_count": 9,
   "metadata": {},
   "outputs": [],
   "source": [
    "del Arm  "
   ]
  }
 ],
 "metadata": {
  "kernelspec": {
   "display_name": "Python 3",
   "language": "python",
   "name": "python3"
  },
  "language_info": {
   "codemirror_mode": {
    "name": "ipython",
    "version": 3
   },
   "file_extension": ".py",
   "mimetype": "text/x-python",
   "name": "python",
   "nbconvert_exporter": "python",
   "pygments_lexer": "ipython3",
   "version": "3.6.9"
  }
 },
 "nbformat": 4,
 "nbformat_minor": 4
}
