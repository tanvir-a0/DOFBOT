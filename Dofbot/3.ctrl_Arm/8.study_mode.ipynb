{
 "cells": [
  {
   "cell_type": "code",
   "execution_count": 1,
   "metadata": {},
   "outputs": [],
   "source": [
    "#!/usr/bin/env python3\n",
    "#coding=utf-8\n",
    "import time\n",
    "from Arm_Lib import Arm_Device\n",
    "\n",
    "Arm = Arm_Device()\n",
    "time.sleep(.1)\n"
   ]
  },
  {
   "cell_type": "code",
   "execution_count": null,
   "metadata": {},
   "outputs": [],
   "source": [
    "# 打开学习模式，扩展板上的RGB灯呈现呼吸灯状态，同时机械臂所有舵机都进入关闭扭矩状态，\n",
    "# 即可以自由掰动，可以把机械臂掰动到要记住的位置上。\n",
    "#When the learning mode is turned on, the RGB light on the expansion board shows the breathing light state, and all steering gears of the manipulator enter the closing torque state,\n",
    "#That is, it can be broken freely, and the mechanical arm can be broken to the position to remember.\n",
    "Arm.Arm_Button_Mode(1)\n"
   ]
  },
  {
   "cell_type": "code",
   "execution_count": null,
   "metadata": {},
   "outputs": [],
   "source": [
    "# 在学习模式下，每次运行此cell，记录当前的动作保存到扩展板，同时扩展板上的RGB灯会切换颜色，\n",
    "# 如果出现了红色呼吸灯，则表示学习的动作组已经满（20组）。\n",
    "# 此命令也可以替换成按扩展板上的K1键，两者的功能是一致的。\n",
    "#In the learning mode, each time you run this cell, record the current action and save it to the expansion board. At the same time, the RGB light on the expansion board will switch colors,\n",
    "#If the red breathing light appears, it indicates that the learning action group is full (Group 20).\n",
    "#This command can also be replaced by pressing the K1 key on the expansion board. Their functions are the same.\n",
    "Arm.Arm_Action_Study()"
   ]
  },
  {
   "cell_type": "code",
   "execution_count": 2,
   "metadata": {},
   "outputs": [],
   "source": [
    "#Turn off learning mode. Turn off the breathing light\n",
    "# 关闭学习模式。关闭呼吸灯\n",
    "Arm.Arm_Button_Mode(0)\n"
   ]
  },
  {
   "cell_type": "code",
   "execution_count": null,
   "metadata": {},
   "outputs": [],
   "source": [
    "#Read the number of action groups currently recorded\n",
    "# 读取当前记录的动作组数量\n",
    "num = Arm.Arm_Read_Action_Num()\n",
    "print(num)\n"
   ]
  },
  {
   "cell_type": "code",
   "execution_count": null,
   "metadata": {},
   "outputs": [],
   "source": [
    "# Single operation action group\n",
    "# 单次运行动作组\n",
    "Arm.Arm_Action_Mode(1)\n"
   ]
  },
  {
   "cell_type": "code",
   "execution_count": null,
   "metadata": {},
   "outputs": [],
   "source": [
    "# Cyclic operation action group\n",
    "# 循环运行动作组\n",
    "Arm.Arm_Action_Mode(2)\n"
   ]
  },
  {
   "cell_type": "code",
   "execution_count": null,
   "metadata": {},
   "outputs": [],
   "source": [
    "# Stop action group\n",
    "# 停止动作组\n",
    "Arm.Arm_Action_Mode(0)\n"
   ]
  },
  {
   "cell_type": "code",
   "execution_count": null,
   "metadata": {},
   "outputs": [],
   "source": [
    "# 清空动作组，清空完成扩展板上的RGB灯会亮绿色。\n",
    "# 注意：一旦清空已记录的动作组则无法恢复。\n",
    "#When the action group is cleared, the RGB light on the expansion board will turn green.\n",
    "#Note: once the recorded action group is cleared, it cannot be recovered.\n",
    "Arm.Arm_Clear_Action()\n"
   ]
  },
  {
   "cell_type": "code",
   "execution_count": null,
   "metadata": {},
   "outputs": [],
   "source": [
    "del Arm  "
   ]
  },
  {
   "cell_type": "code",
   "execution_count": null,
   "metadata": {},
   "outputs": [],
   "source": []
  }
 ],
 "metadata": {
  "kernelspec": {
   "display_name": "Python 3",
   "language": "python",
   "name": "python3"
  },
  "language_info": {
   "codemirror_mode": {
    "name": "ipython",
    "version": 3
   },
   "file_extension": ".py",
   "mimetype": "text/x-python",
   "name": "python",
   "nbconvert_exporter": "python",
   "pygments_lexer": "ipython3",
   "version": "3.6.9"
  }
 },
 "nbformat": 4,
 "nbformat_minor": 4
}
