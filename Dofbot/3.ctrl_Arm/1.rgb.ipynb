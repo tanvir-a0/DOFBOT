{
 "cells": [
  {
   "cell_type": "markdown",
   "metadata": {},
   "source": [
    "循环让机械臂扩展板上的RGB灯亮红色、绿色、蓝色。\n",
    "\n",
    "Cycle to make the RGB light on the manipulator expansion board light red, green and blue.\n",
    "\n"
   ]
  },
  {
   "cell_type": "code",
   "execution_count": null,
   "metadata": {},
   "outputs": [],
   "source": [
    "#!/usr/bin/env python3\n",
    "#coding=utf-8\n",
    "import time\n",
    "from Arm_Lib import Arm_Device\n",
    "\n",
    "# Gets the object of the manipulator\n",
    "# 获取机械臂的对象\n",
    "Arm = Arm_Device()\n",
    "time.sleep(.1)\n",
    "\n",
    "\n",
    "def main():\n",
    "    \n",
    "    while True:\n",
    "        Arm.Arm_RGB_set(50, 0, 0) #RGB亮红灯  RGB red\n",
    "        time.sleep(.5)\n",
    "        Arm.Arm_RGB_set(0, 50, 0) #RGB亮绿灯  RGB green\n",
    "        time.sleep(.5)\n",
    "        Arm.Arm_RGB_set(0, 0, 50) #RGB亮蓝灯  RGB blue\n",
    "        time.sleep(.5)\n",
    "\n",
    "        print(\" END OF LINE! \")\n",
    "\n",
    "try :\n",
    "    main()\n",
    "except KeyboardInterrupt:\n",
    "    # Release arm object \n",
    "    # 释放Arm对象\n",
    "    del Arm\n",
    "    print(\" Program closed! \")\n",
    "    pass\n"
   ]
  },
  {
   "cell_type": "code",
   "execution_count": null,
   "metadata": {},
   "outputs": [],
   "source": []
  }
 ],
 "metadata": {
  "kernelspec": {
   "display_name": "Python 3",
   "language": "python",
   "name": "python3"
  },
  "language_info": {
   "codemirror_mode": {
    "name": "ipython",
    "version": 3
   },
   "file_extension": ".py",
   "mimetype": "text/x-python",
   "name": "python",
   "nbconvert_exporter": "python",
   "pygments_lexer": "ipython3",
   "version": "3.6.9"
  }
 },
 "nbformat": 4,
 "nbformat_minor": 4
}
