{
 "cells": [
  {
   "cell_type": "markdown",
   "metadata": {},
   "source": [
    "<center><img src=\"../../logo.png\" alt=\"Header\" style=\"width: 800px;\"/></center>"
   ]
  },
  {
   "cell_type": "markdown",
   "metadata": {},
   "source": [
    "@Copyright (C): 2010-2022, Shenzhen Yahboom Tech  \n",
    "@Author: Liusen  \n",
    "@Date: 2020-02-18 12:01:02  \n",
    "@LastEditors: Liusen  \n",
    "@LastEditTime: 2020-02-18 12:01:02  "
   ]
  },
  {
   "cell_type": "code",
   "execution_count": 1,
   "metadata": {},
   "outputs": [],
   "source": [
    "\n",
    "import cv2\n",
    "img = cv2.imread('yahboom.jpg', 1)\n",
    "# 这里选取矩形区域X：300-500  Y：500-700\n",
    "# Here, select the rectangular area X: 300-500 Y: 500-700\n",
    "dst = img[500:700,300:500]  \n",
    "\n",
    "#cv2.imshow('image',dst)\n",
    "#cv2.waitKey(0)"
   ]
  },
  {
   "cell_type": "markdown",
   "metadata": {},
   "source": [
    "# 以下会在jupyterLab控件中显示两种压缩后的图像对比显示\n",
    "\n",
    "# The following two kinds of compressed image contrast display will be displayed in the jupyterlab control"
   ]
  },
  {
   "cell_type": "code",
   "execution_count": 2,
   "metadata": {},
   "outputs": [],
   "source": [
    "import enum\n",
    "import cv2\n",
    "\n",
    "def bgr8_to_jpeg(value, quality=75):\n",
    "    return bytes(cv2.imencode('.jpg', value)[1])"
   ]
  },
  {
   "cell_type": "code",
   "execution_count": 3,
   "metadata": {},
   "outputs": [
    {
     "data": {
      "application/vnd.jupyter.widget-view+json": {
       "model_id": "b8c7244fb36b440d8de78180d5cd95e3",
       "version_major": 2,
       "version_minor": 0
      },
      "text/plain": [
       "Image(value=b'', format='jpg')"
      ]
     },
     "metadata": {},
     "output_type": "display_data"
    },
    {
     "data": {
      "application/vnd.jupyter.widget-view+json": {
       "model_id": "6f2751a3222248f3858e82328587e518",
       "version_major": 2,
       "version_minor": 0
      },
      "text/plain": [
       "Image(value=b'', format='jpg')"
      ]
     },
     "metadata": {},
     "output_type": "display_data"
    }
   ],
   "source": [
    "import ipywidgets.widgets as widgets\n",
    "\n",
    "image_widget1 = widgets.Image(format='jpg', )\n",
    "image_widget2 = widgets.Image(format='jpg', )\n",
    "\n",
    "# display the container in this cell's output\n",
    "display(image_widget1)\n",
    "display(image_widget2)\n",
    "\n",
    "img1 = cv2.imread('yahboom.jpg',1)\n",
    "\n",
    "image_widget1.value = bgr8_to_jpeg(img1)  \n",
    "image_widget2.value = bgr8_to_jpeg(dst)   "
   ]
  },
  {
   "cell_type": "code",
   "execution_count": null,
   "metadata": {},
   "outputs": [],
   "source": []
  }
 ],
 "metadata": {
  "kernelspec": {
   "display_name": "Python 3",
   "language": "python",
   "name": "python3"
  },
  "language_info": {
   "codemirror_mode": {
    "name": "ipython",
    "version": 3
   },
   "file_extension": ".py",
   "mimetype": "text/x-python",
   "name": "python",
   "nbconvert_exporter": "python",
   "pygments_lexer": "ipython3",
   "version": "3.8.5"
  }
 },
 "nbformat": 4,
 "nbformat_minor": 4
}
